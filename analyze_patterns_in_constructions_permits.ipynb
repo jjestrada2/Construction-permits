{
 "cells": [
  {
   "cell_type": "markdown",
   "id": "08eb96c9",
   "metadata": {},
   "source": [
    "Explore the data\n",
    "Connect to your ArcGIS online organization."
   ]
  },
  {
   "cell_type": "code",
   "execution_count": null,
   "id": "5c914a5e",
   "metadata": {
    "vscode": {
     "languageId": "plaintext"
    }
   },
   "outputs": [],
   "source": [
    "import pandas as pd\n",
    "\n",
    "from arcgis.map.renderers import UniqueValueRenderer\n",
    "from arcgis.gis import GIS"
   ]
  },
  {
   "cell_type": "code",
   "execution_count": null,
   "id": "3dfcc30a",
   "metadata": {
    "vscode": {
     "languageId": "plaintext"
    }
   },
   "outputs": [],
   "source": [
    "agol_gis = GIS()"
   ]
  },
  {
   "cell_type": "markdown",
   "id": "7ac05234",
   "metadata": {},
   "source": [
    "Search for the Commercial Permits since 2010 layer. You can specify the owner\"s name to get more specific results. To search for content from the Living Atlas, or content shared by other users on ArcGIS Online, set outside_org=True."
   ]
  },
  {
   "cell_type": "code",
   "execution_count": null,
   "id": "d1b0080b",
   "metadata": {
    "vscode": {
     "languageId": "plaintext"
    }
   },
   "outputs": [],
   "source": [
    "data = agol_gis.content.search(\"title: Commercial Permits since 2010\", \"Feature layer\",\n",
    "                               outside_org=True)\n",
    "data[0]"
   ]
  },
  {
   "cell_type": "markdown",
   "id": "d6c9b158",
   "metadata": {},
   "source": [
    "Get the first item from the results."
   ]
  },
  {
   "cell_type": "code",
   "execution_count": null,
   "id": "0c61bbaa",
   "metadata": {
    "vscode": {
     "languageId": "plaintext"
    }
   },
   "outputs": [],
   "source": [
    "permits = data[0]"
   ]
  },
  {
   "cell_type": "markdown",
   "id": "bd8bfe11",
   "metadata": {},
   "source": [
    "Since the item is a Feature Layer Collection, accessing the layers property gives us a list of FeatureLayer objects. The permit layer is the first layer in this item. Visualize this layer on a map of Montgomery County, Maryland."
   ]
  },
  {
   "cell_type": "code",
   "execution_count": null,
   "id": "36d76086",
   "metadata": {
    "vscode": {
     "languageId": "plaintext"
    }
   },
   "outputs": [],
   "source": [
    "permit_layer = permits.layers[0]"
   ]
  },
  {
   "cell_type": "code",
   "execution_count": null,
   "id": "5be1f6e8",
   "metadata": {
    "vscode": {
     "languageId": "plaintext"
    }
   },
   "outputs": [],
   "source": [
    "permit_map = agol_gis.map(\"Montgomery County, Maryland\")\n",
    "permit_map\n",
    "permit_map.content.add(permit_layer)"
   ]
  },
  {
   "cell_type": "markdown",
   "id": "a8d4e5ef",
   "metadata": {},
   "source": [
    "Data Exploration\n",
    "Convert the layer into a spatially-enabled dataframe to explore these attributes."
   ]
  },
  {
   "cell_type": "code",
   "execution_count": null,
   "id": "18fb20ec",
   "metadata": {
    "vscode": {
     "languageId": "plaintext"
    }
   },
   "outputs": [],
   "source": [
    "permit_layer"
   ]
  },
  {
   "cell_type": "code",
   "execution_count": null,
   "id": "751db285",
   "metadata": {
    "vscode": {
     "languageId": "plaintext"
    }
   },
   "outputs": [],
   "source": [
    "sdf = pd.DataFrame.spatial.from_layer(permit_layer)"
   ]
  },
  {
   "cell_type": "code",
   "execution_count": null,
   "id": "dac1a337",
   "metadata": {
    "vscode": {
     "languageId": "plaintext"
    }
   },
   "outputs": [],
   "source": [
    "sdf.tail()"
   ]
  },
  {
   "cell_type": "markdown",
   "id": "c63bb4f7",
   "metadata": {},
   "source": [
    "The permit data contains a long list of attributes. Some attributes have self-explanatory names, while others may have names that can be difficult to understand without context. The list of attributes can be obtained using the columns of the dataframe."
   ]
  },
  {
   "cell_type": "code",
   "execution_count": null,
   "id": "81334fe7",
   "metadata": {
    "vscode": {
     "languageId": "plaintext"
    }
   },
   "outputs": [],
   "source": [
    "sdf.rename(columns=lambda x: x.lower() if x != \"SHAPE\" else x, inplace=True)\n",
    "sdf.columns"
   ]
  },
  {
   "cell_type": "code",
   "execution_count": null,
   "id": "e9e069ac",
   "metadata": {
    "vscode": {
     "languageId": "plaintext"
    }
   },
   "outputs": [],
   "source": [
    "sdf.describe().T"
   ]
  },
  {
   "cell_type": "code",
   "execution_count": null,
   "id": "c2a36324",
   "metadata": {
    "vscode": {
     "languageId": "plaintext"
    }
   },
   "outputs": [],
   "source": [
    "sdf.dtypes"
   ]
  },
  {
   "cell_type": "code",
   "execution_count": null,
   "id": "f96afeaf",
   "metadata": {
    "vscode": {
     "languageId": "plaintext"
    }
   },
   "outputs": [],
   "source": [
    "sdf[\"work_type\"].unique()"
   ]
  },
  {
   "cell_type": "code",
   "execution_count": null,
   "id": "23f96b0b",
   "metadata": {
    "vscode": {
     "languageId": "plaintext"
    }
   },
   "outputs": [],
   "source": [
    "sdf[\"status\"].unique()"
   ]
  },
  {
   "cell_type": "code",
   "execution_count": null,
   "id": "c58918dc",
   "metadata": {
    "vscode": {
     "languageId": "plaintext"
    }
   },
   "outputs": [],
   "source": [
    "sdf[\"use_code\"].unique()"
   ]
  },
  {
   "cell_type": "markdown",
   "id": "cde5aa39",
   "metadata": {},
   "source": [
    "Permits by Status\n",
    "The groupby() method groups the rows per the column and does calculations, such as finding their counts, as shown in the following code."
   ]
  },
  {
   "cell_type": "code",
   "execution_count": null,
   "id": "b5f355b2",
   "metadata": {
    "vscode": {
     "languageId": "plaintext"
    }
   },
   "outputs": [],
   "source": [
    "permits_by_status = sdf.groupby(sdf[\"status\"]).size()\n",
    "permits_by_status"
   ]
  },
  {
   "cell_type": "markdown",
   "id": "5c53afb4",
   "metadata": {},
   "source": [
    "status\n",
    "Finaled      5341\n",
    "Issued       4696\n",
    "Open          757\n",
    "Stop Work     430\n",
    "dtype: int64\n",
    "There are only four permit statuses: Issued, Finaled, Open, and Stop Work. To visualize the number of permits for each status, you'll create a pie chart.\n",
    "\n",
    "Since the dataframe attributes just show the count of status, you can consider any attribute to graph the status count."
   ]
  },
  {
   "cell_type": "code",
   "execution_count": null,
   "id": "310fd242",
   "metadata": {
    "vscode": {
     "languageId": "plaintext"
    }
   },
   "outputs": [],
   "source": [
    "%matplotlib inline\n",
    "import matplotlib.pyplot as plt"
   ]
  },
  {
   "cell_type": "code",
   "execution_count": null,
   "id": "6abfb6d3",
   "metadata": {
    "vscode": {
     "languageId": "plaintext"
    }
   },
   "outputs": [],
   "source": [
    "plt.axis(\"equal\")\n",
    "permits_by_status.plot(kind=\"pie\", legend=False, label=\"Permits by Status\")"
   ]
  },
  {
   "cell_type": "markdown",
   "id": "c8f89fae",
   "metadata": {},
   "source": [
    "The pie chart above shows the four permit statuses, with the size of each status determined by the number of permits. The vast majority of permits are either Issued or Finaled. Finaled permits are issued permits that have also had the requisite inspections performed.\n",
    "\n",
    "It's helpful to visualize the spatial distribution of permit attributes on a map. You'll change the map so that each permit's symbol represents its status."
   ]
  },
  {
   "cell_type": "code",
   "execution_count": null,
   "id": "06a71190",
   "metadata": {
    "vscode": {
     "languageId": "plaintext"
    }
   },
   "outputs": [],
   "source": [
    "permits_by_status_map = agol_gis.map(\"Montgomery County, Maryland\")\n",
    "permits_by_status_map"
   ]
  },
  {
   "cell_type": "code",
   "execution_count": null,
   "id": "d018009d",
   "metadata": {
    "vscode": {
     "languageId": "plaintext"
    }
   },
   "outputs": [],
   "source": [
    "status_value_infos = [\n",
    "    {\n",
    "        \"value\": \"Stop Work\",\n",
    "        \"symbol\": {\n",
    "            \"type\": \"esriSMS\",\n",
    "            \"style\": \"esriSMSCircle\",\n",
    "            \"color\": [205, 51, 46, 255],\n",
    "            \"size\": 6,\n",
    "        },\n",
    "    },\n",
    "    {\n",
    "        \"value\": \"Issued\",\n",
    "        \"symbol\": {\n",
    "            \"type\": \"esriSMS\",\n",
    "            \"style\": \"esriSMSCircle\",\n",
    "            \"color\": [246, 132, 34, 255],\n",
    "            \"size\": 6,\n",
    "        },\n",
    "    },\n",
    "    {\n",
    "        \"value\": \"Open\",\n",
    "        \"symbol\": {\n",
    "            \"type\": \"esriSMS\",\n",
    "            \"style\": \"esriSMSCircle\",\n",
    "            \"color\": [60, 159, 48, 255],\n",
    "            \"size\": 6,\n",
    "        },\n",
    "    },\n",
    "    {\n",
    "        \"value\": \"Finaled\",\n",
    "        \"symbol\": {\n",
    "            \"type\": \"esriSMS\",\n",
    "            \"style\": \"esriSMSCircle\",\n",
    "            \"color\": [54, 117, 179, 255],\n",
    "            \"size\": 6,\n",
    "        },\n",
    "    }\n",
    "]\n",
    "sdf.spatial.plot(\n",
    "    map_widget=permits_by_status_map,\n",
    "    renderer=UniqueValueRenderer(\n",
    "        field1=\"status\",\n",
    "        unique_value_infos=status_value_infos\n",
    "    )\n",
    ")"
   ]
  },
  {
   "cell_type": "markdown",
   "id": "5ebdee36",
   "metadata": {},
   "source": [
    "Permits by Type"
   ]
  },
  {
   "cell_type": "code",
   "execution_count": null,
   "id": "96795b2c",
   "metadata": {
    "vscode": {
     "languageId": "plaintext"
    }
   },
   "outputs": [],
   "source": [
    "permits_by_type = sdf.groupby([\"use_code\"]).size()\n",
    "permits_by_type"
   ]
  },
  {
   "cell_type": "markdown",
   "id": "1c918631",
   "metadata": {},
   "source": [
    "The series is not sorted properly. Use the sort() method to sort it from highest count to lowest count. The most common use code, Business Buildings, has almost twice as many permits as the second highest, Multi-family Dwelling. The top four use codes together comprise the majority of all permits, so these use codes may be the most important to focus on in your analysis later."
   ]
  },
  {
   "cell_type": "code",
   "execution_count": null,
   "id": "3f1a4208",
   "metadata": {
    "vscode": {
     "languageId": "plaintext"
    }
   },
   "outputs": [],
   "source": [
    "permits_by_type.sort_values(ascending=False, inplace=True)\n",
    "permits_by_type.head()"
   ]
  },
  {
   "cell_type": "markdown",
   "id": "2465ce56",
   "metadata": {},
   "source": [
    "Clean up the data\n",
    "Before you begin analysis of your data, you'll hide attribute fields you don't intend to use, rename fields with unclear names, and filter your dataset to only show permits with the four most common use codes. These changes won't permanently affect the original dataset, but they will make the data easier to work with and understand.\n",
    "\n",
    "'Declared_V', 'Building_A', 'Applicatio' attribute fields describe aspects of the data that aren't important for your analysis. You'll drop these fields."
   ]
  },
  {
   "cell_type": "code",
   "execution_count": null,
   "id": "3e1e4d19",
   "metadata": {
    "vscode": {
     "languageId": "plaintext"
    }
   },
   "outputs": [],
   "source": [
    "sdf.drop([\"declared_v\", \"building_a\", \"applicatio\"], axis=1, inplace=True)\n",
    "sdf.columns"
   ]
  },
  {
   "cell_type": "markdown",
   "id": "f771c9ea",
   "metadata": {},
   "source": [
    "Next, you'll rename some of the attribute fields with shortened or unclear names so that their names are more descriptive."
   ]
  },
  {
   "cell_type": "code",
   "execution_count": null,
   "id": "ed9b4f40",
   "metadata": {
    "vscode": {
     "languageId": "plaintext"
    }
   },
   "outputs": [],
   "source": [
    "sdf.rename(columns={\"descriptio\": \"Description\", \"bldgareanu\": \"Building_Area\",\n",
    "           \"declvalnu\": \"Declared_Value\"}, inplace=True)\n",
    "        "
   ]
  },
  {
   "cell_type": "code",
   "execution_count": null,
   "id": "5e9f6971",
   "metadata": {
    "vscode": {
     "languageId": "plaintext"
    }
   },
   "outputs": [],
   "source": [
    "sdf.columns\n"
   ]
  },
  {
   "cell_type": "markdown",
   "id": "893eaa24",
   "metadata": {},
   "source": [
    "There are other fields that you may want to either rename or remove, but for the purposes of this lesson, these are enough.\n",
    "\n",
    "Filter the permits\n",
    "Next, you'll filter the permits to reduce the number of records in your analysis. As you saw previously, there are four types of permits that comprise over half the total number of permits. Focusing your analysis on just these four types will reduce the amount of data to analyze without ignoring the most important types of development. To remove the other use codes, you'll create a filter."
   ]
  },
  {
   "cell_type": "code",
   "execution_count": null,
   "id": "212b1e29",
   "metadata": {
    "vscode": {
     "languageId": "plaintext"
    }
   },
   "outputs": [],
   "source": [
    "permits_by_type.head(4)  # top 4 Use_Codes"
   ]
  },
  {
   "cell_type": "code",
   "execution_count": null,
   "id": "9d5520ac",
   "metadata": {
    "vscode": {
     "languageId": "plaintext"
    }
   },
   "outputs": [],
   "source": [
    "filtered_permits = list(permits_by_type.head(4).index)\n",
    "filtered_permits"
   ]
  },
  {
   "cell_type": "code",
   "execution_count": null,
   "id": "a38debc5",
   "metadata": {
    "vscode": {
     "languageId": "plaintext"
    }
   },
   "outputs": [],
   "source": [
    "sdf.shape, filtered_df.shape"
   ]
  },
  {
   "cell_type": "code",
   "execution_count": null,
   "id": "82cb13fd",
   "metadata": {
    "vscode": {
     "languageId": "plaintext"
    }
   },
   "outputs": [],
   "source": [
    "The dataset is filtered. Instead of more than 11,000 permits, the filtered dataframe has about 7,500.\n",
    "\n",
    "Visualize filtered dataset"
   ]
  },
  {
   "cell_type": "code",
   "execution_count": null,
   "id": "5db324cb",
   "metadata": {
    "vscode": {
     "languageId": "plaintext"
    }
   },
   "outputs": [],
   "source": [
    "filtered_map = agol_gis.map(\"Montgomery County, Maryland\")\n",
    "filtered_map"
   ]
  },
  {
   "cell_type": "code",
   "execution_count": null,
   "id": "9867d95f",
   "metadata": {
    "vscode": {
     "languageId": "plaintext"
    }
   },
   "outputs": [],
   "source": [
    "use_code_value_infos = [\n",
    "    {\n",
    "        \"value\": \"MULTI-FAMILY DWELLING\",\n",
    "        \"symbol\": {\n",
    "            \"type\": \"esriSMS\",\n",
    "            \"style\": \"esriSMSDiamond\",\n",
    "            \"color\": [75, 210, 254, 255],\n",
    "            \"size\": 6,\n",
    "        },\n",
    "    },\n",
    "    {\n",
    "        \"value\": \"MERCANTILE BUILDING\",\n",
    "        \"symbol\": {\n",
    "            \"type\": \"esriSMS\",\n",
    "            \"style\": \"esriSMSDiamond\",\n",
    "            \"color\": [250, 230, 38, 255],\n",
    "            \"size\": 6,\n",
    "        },\n",
    "    },\n",
    "    {\n",
    "        \"value\": \"BUSINESS BUILDING\",\n",
    "        \"symbol\": {\n",
    "            \"type\": \"esriSMS\",\n",
    "            \"style\": \"esriSMSDiamond\",\n",
    "            \"color\": [121, 14, 6, 255],\n",
    "            \"size\": 6,\n",
    "        },\n",
    "    },\n",
    "    {\n",
    "        \"value\": \"COMMERCIAL MISCELLANEOUS STRUC\",\n",
    "        \"symbol\": {\n",
    "            \"type\": \"esriSMS\",\n",
    "            \"style\": \"esriSMSDiamond\",\n",
    "            \"color\": [19, 0, 126, 255],\n",
    "            \"size\": 6,\n",
    "        },\n",
    "    }\n",
    "]\n",
    "filtered_df.spatial.plot(\n",
    "    map_widget=filtered_map,\n",
    "    renderer=UniqueValueRenderer(\n",
    "        field1=\"use_code\",\n",
    "        unique_value_infos=use_code_value_infos\n",
    "    )\n",
    ")"
   ]
  },
  {
   "cell_type": "markdown",
   "id": "78cf8dc7",
   "metadata": {},
   "source": [
    "Visualize temporal and spatial trends\n",
    "Your data show permits, but what do these permits say about when and where growth is happening in the county? Your data also contains temporal attribute fields, such as Added_Date, which indicates when a permit was first added to the system. The field has several values that break down the data by year, month, and even hour.\n",
    "\n",
    "Split the Added_date to get year, month, week_of_day"
   ]
  },
  {
   "cell_type": "code",
   "execution_count": null,
   "id": "0bac7dff",
   "metadata": {
    "vscode": {
     "languageId": "plaintext"
    }
   },
   "outputs": [],
   "source": [
    "sdf[\"datetime\"] = pd.to_datetime(sdf[\"added_date\"], unit=\"ms\")\n",
    "sdf[\"year\"], sdf[\"month\"], sdf[\"day_of_week\"] = sdf.datetime.dt.year, sdf.datetime.dt.month, sdf.datetime.dt.dayofweek"
   ]
  },
  {
   "cell_type": "markdown",
   "id": "3ee901b1",
   "metadata": {},
   "source": [
    "Visualize permits by time of issue\n",
    "You'll create chart cards for the year, month, and day subfields to visualize patterns in permit activity over time."
   ]
  },
  {
   "cell_type": "code",
   "execution_count": null,
   "id": "87d148ff",
   "metadata": {
    "vscode": {
     "languageId": "plaintext"
    }
   },
   "outputs": [],
   "source": [
    "import seaborn as sns\n",
    "sns.set_palette(\"colorblind\")\n",
    "sns.countplot(data=sdf, x=\"year\", hue=\"year\", palette=\"deep\", legend=False)"
   ]
  },
  {
   "cell_type": "markdown",
   "id": "f8503976",
   "metadata": {},
   "source": [
    "The chart shows the number of permits issued each year since 2010. (The year 2017 has significantly fewer permits because the dataset only covers part of 2017.) You can compare the number of permits visually by the size of each bar. Although some fluctuation occurs from year to year, most years had similar permit activity.\n",
    "\n",
    "Similarly you can visualize it by month as well as day_of_week"
   ]
  },
  {
   "cell_type": "code",
   "execution_count": null,
   "id": "ad125c45",
   "metadata": {
    "vscode": {
     "languageId": "plaintext"
    }
   },
   "outputs": [],
   "source": [
    "sns.countplot(data=sdf, x=\"day_of_week\", hue=\"day_of_week\",\n",
    "              palette=\"pastel\", legend=False)"
   ]
  },
  {
   "cell_type": "markdown",
   "id": "8d0deb51",
   "metadata": {},
   "source": [
    "Almost all permit activity occurs on weekdays. Government offices are closed on weekends, so few permits are issued then."
   ]
  },
  {
   "cell_type": "code",
   "execution_count": null,
   "id": "59effe40",
   "metadata": {
    "vscode": {
     "languageId": "plaintext"
    }
   },
   "outputs": [],
   "source": [
    "ddf = sdf.set_index(\"datetime\")\n",
    "ddf[\"num\"] = 1\n",
    "ddf[\"num\"].resample(\"M\").sum().plot()"
   ]
  },
  {
   "cell_type": "markdown",
   "id": "2a485dc3",
   "metadata": {},
   "source": [
    "A huge spike in permit activity occurred in mid-2011. What caused this spike? Is it an increase in overall permit activity, or is it mostly an increase in a certain type of permit? You'll plot the number of permits based on Use_Code to find which one cased the spike."
   ]
  },
  {
   "cell_type": "code",
   "execution_count": null,
   "id": "13f3b945",
   "metadata": {
    "vscode": {
     "languageId": "plaintext"
    }
   },
   "outputs": [],
   "source": [
    "fig = plt.figure(figsize=(15, 5))\n",
    "ax = fig.add_subplot(1, 1, 1)\n",
    "\n",
    "ax.plot(ddf[\"num\"].resample(\"M\").sum(), \"k\", label=\"Total permits\")\n",
    "for use_code in filtered_permits:\n",
    "    x = ddf[ddf.use_code == use_code][\"num\"].resample(\"M\").sum()\n",
    "    ax.plot(x, label=use_code)\n",
    "ax.legend()"
   ]
  },
  {
   "cell_type": "markdown",
   "id": "83d31486",
   "metadata": {},
   "source": [
    "Based on the legend, permit activity spiked in 2011 due to a sharp increase in the number of multifamily dwelling permits issued. This likely means that there was large residential growth in 2011.\n",
    "\n",
    "You've investigated some temporal patterns in your data. Next, you'll look at spatial patterns. Are there certain areas in the county that have experienced a relatively high degree of permit activity? Was the 2011 spike in residential permits in a specific location? To find out, you'll change the symbology of the map card to show hot spots, or areas with concentrations of points."
   ]
  },
  {
   "cell_type": "code",
   "execution_count": null,
   "id": "ac6e3823",
   "metadata": {
    "vscode": {
     "languageId": "plaintext"
    }
   },
   "outputs": [],
   "source": [
    "hotspot_map = agol_gis.map(\"Germantown, Montgomery County, Maryland\")\n",
    "hotspot_map"
   ]
  },
  {
   "cell_type": "code",
   "execution_count": null,
   "id": "38189739",
   "metadata": {
    "vscode": {
     "languageId": "plaintext"
    }
   },
   "outputs": [],
   "source": [
    "sdf_sm = hotspot_map.content.renderer(0).smart_mapping()\n",
    "sdf_sm.heatmap_renderer()"
   ]
  },
  {
   "cell_type": "markdown",
   "id": "d6adf6ca",
   "metadata": {},
   "source": [
    "The hot spots show up where there is a high concentration of permits. The highest concentration areas are in the southeast and northwest corners of the county, which correspond to the major population centers of Germantown and the suburban communities near Washington, D.C.\n",
    "\n",
    "Next, you'll see if the 2011 permit spike corresponds to a specific area of the map. The code below filters the dataframe to only show permits from 2011 and highlights related data in the map. In this case, the heat map changes to show the hot spot in the northwest part of the county, near Germantown."
   ]
  },
  {
   "cell_type": "code",
   "execution_count": null,
   "id": "57bab56e",
   "metadata": {
    "vscode": {
     "languageId": "plaintext"
    }
   },
   "outputs": [],
   "source": [
    "hotspot_2011_map = agol_gis.map(\"Germantown, Montgomery County, Maryland\")\n",
    "hotspot_2011_map"
   ]
  },
  {
   "cell_type": "code",
   "execution_count": null,
   "id": "17fd9a69",
   "metadata": {
    "vscode": {
     "languageId": "plaintext"
    }
   },
   "outputs": [],
   "source": [
    "sdf.loc[sdf.year == 2011].copy().spatial.plot(map_widget=hotspot_2011_map)"
   ]
  },
  {
   "cell_type": "code",
   "execution_count": null,
   "id": "cabc9b3f",
   "metadata": {
    "vscode": {
     "languageId": "plaintext"
    }
   },
   "outputs": [],
   "source": [
    "sedf_2011_sm = hotspot_2011_map.content.renderer(0).smart_mapping()\n",
    "sedf_2011_sm.heatmap_renderer()"
   ]
  }
 ],
 "metadata": {
  "language_info": {
   "name": "python"
  }
 },
 "nbformat": 4,
 "nbformat_minor": 5
}
